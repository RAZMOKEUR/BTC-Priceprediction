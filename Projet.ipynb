{
 "cells": [
  {
   "cell_type": "code",
   "execution_count": 111,
   "metadata": {},
   "outputs": [
    {
     "data": {
      "text/html": [
       "<div>\n",
       "<style scoped>\n",
       "    .dataframe tbody tr th:only-of-type {\n",
       "        vertical-align: middle;\n",
       "    }\n",
       "\n",
       "    .dataframe tbody tr th {\n",
       "        vertical-align: top;\n",
       "    }\n",
       "\n",
       "    .dataframe thead th {\n",
       "        text-align: right;\n",
       "    }\n",
       "</style>\n",
       "<table border=\"1\" class=\"dataframe\">\n",
       "  <thead>\n",
       "    <tr style=\"text-align: right;\">\n",
       "      <th></th>\n",
       "      <th>Date</th>\n",
       "      <th>Dernier</th>\n",
       "      <th>Ouv.</th>\n",
       "      <th>Plus Haut</th>\n",
       "      <th>Plus Bas</th>\n",
       "      <th>Vol.</th>\n",
       "      <th>Variation %</th>\n",
       "    </tr>\n",
       "  </thead>\n",
       "  <tbody>\n",
       "    <tr>\n",
       "      <th>4366</th>\n",
       "      <td>2022-07-01</td>\n",
       "      <td>19.262,9</td>\n",
       "      <td>19.926,6</td>\n",
       "      <td>20.785,6</td>\n",
       "      <td>18.980,1</td>\n",
       "      <td>150,18K</td>\n",
       "      <td>-3,33%</td>\n",
       "    </tr>\n",
       "    <tr>\n",
       "      <th>4365</th>\n",
       "      <td>2022-06-30</td>\n",
       "      <td>19.926,6</td>\n",
       "      <td>20.111,3</td>\n",
       "      <td>20.155,1</td>\n",
       "      <td>18.682,7</td>\n",
       "      <td>127,73K</td>\n",
       "      <td>-0,92%</td>\n",
       "    </tr>\n",
       "    <tr>\n",
       "      <th>4364</th>\n",
       "      <td>2022-06-29</td>\n",
       "      <td>20.111,3</td>\n",
       "      <td>20.278,0</td>\n",
       "      <td>20.415,8</td>\n",
       "      <td>19.880,7</td>\n",
       "      <td>98,97K</td>\n",
       "      <td>-0,82%</td>\n",
       "    </tr>\n",
       "    <tr>\n",
       "      <th>4363</th>\n",
       "      <td>2022-06-28</td>\n",
       "      <td>20.278,0</td>\n",
       "      <td>20.727,9</td>\n",
       "      <td>21.200,2</td>\n",
       "      <td>20.210,5</td>\n",
       "      <td>83,83K</td>\n",
       "      <td>-2,18%</td>\n",
       "    </tr>\n",
       "    <tr>\n",
       "      <th>4362</th>\n",
       "      <td>2022-06-27</td>\n",
       "      <td>20.730,2</td>\n",
       "      <td>21.037,7</td>\n",
       "      <td>21.497,5</td>\n",
       "      <td>20.568,0</td>\n",
       "      <td>84,69K</td>\n",
       "      <td>-1,49%</td>\n",
       "    </tr>\n",
       "    <tr>\n",
       "      <th>...</th>\n",
       "      <td>...</td>\n",
       "      <td>...</td>\n",
       "      <td>...</td>\n",
       "      <td>...</td>\n",
       "      <td>...</td>\n",
       "      <td>...</td>\n",
       "      <td>...</td>\n",
       "    </tr>\n",
       "    <tr>\n",
       "      <th>4</th>\n",
       "      <td>2010-07-22</td>\n",
       "      <td>0,1</td>\n",
       "      <td>0,1</td>\n",
       "      <td>0,1</td>\n",
       "      <td>0,1</td>\n",
       "      <td>2,16K</td>\n",
       "      <td>0,00%</td>\n",
       "    </tr>\n",
       "    <tr>\n",
       "      <th>3</th>\n",
       "      <td>2010-07-21</td>\n",
       "      <td>0,1</td>\n",
       "      <td>0,1</td>\n",
       "      <td>0,1</td>\n",
       "      <td>0,1</td>\n",
       "      <td>0,58K</td>\n",
       "      <td>0,00%</td>\n",
       "    </tr>\n",
       "    <tr>\n",
       "      <th>2</th>\n",
       "      <td>2010-07-20</td>\n",
       "      <td>0,1</td>\n",
       "      <td>0,1</td>\n",
       "      <td>0,1</td>\n",
       "      <td>0,1</td>\n",
       "      <td>0,26K</td>\n",
       "      <td>0,00%</td>\n",
       "    </tr>\n",
       "    <tr>\n",
       "      <th>1</th>\n",
       "      <td>2010-07-19</td>\n",
       "      <td>0,1</td>\n",
       "      <td>0,1</td>\n",
       "      <td>0,1</td>\n",
       "      <td>0,1</td>\n",
       "      <td>0,57K</td>\n",
       "      <td>0,00%</td>\n",
       "    </tr>\n",
       "    <tr>\n",
       "      <th>0</th>\n",
       "      <td>2010-07-18</td>\n",
       "      <td>0,1</td>\n",
       "      <td>0,0</td>\n",
       "      <td>0,1</td>\n",
       "      <td>0,1</td>\n",
       "      <td>0,08K</td>\n",
       "      <td>0,00%</td>\n",
       "    </tr>\n",
       "  </tbody>\n",
       "</table>\n",
       "<p>4367 rows × 7 columns</p>\n",
       "</div>"
      ],
      "text/plain": [
       "           Date   Dernier      Ouv. Plus Haut  Plus Bas     Vol. Variation %\n",
       "4366 2022-07-01  19.262,9  19.926,6  20.785,6  18.980,1  150,18K      -3,33%\n",
       "4365 2022-06-30  19.926,6  20.111,3  20.155,1  18.682,7  127,73K      -0,92%\n",
       "4364 2022-06-29  20.111,3  20.278,0  20.415,8  19.880,7   98,97K      -0,82%\n",
       "4363 2022-06-28  20.278,0  20.727,9  21.200,2  20.210,5   83,83K      -2,18%\n",
       "4362 2022-06-27  20.730,2  21.037,7  21.497,5  20.568,0   84,69K      -1,49%\n",
       "...         ...       ...       ...       ...       ...      ...         ...\n",
       "4    2010-07-22       0,1       0,1       0,1       0,1    2,16K       0,00%\n",
       "3    2010-07-21       0,1       0,1       0,1       0,1    0,58K       0,00%\n",
       "2    2010-07-20       0,1       0,1       0,1       0,1    0,26K       0,00%\n",
       "1    2010-07-19       0,1       0,1       0,1       0,1    0,57K       0,00%\n",
       "0    2010-07-18       0,1       0,0       0,1       0,1    0,08K       0,00%\n",
       "\n",
       "[4367 rows x 7 columns]"
      ]
     },
     "execution_count": 111,
     "metadata": {},
     "output_type": "execute_result"
    }
   ],
   "source": [
    "# importation des libraries\n",
    "\n",
    "%matplotlib inline\n",
    "import pandas as pd\n",
    "import numpy as np\n",
    "import seaborn as sns\n",
    "import matplotlib.pyplot as plt\n",
    "from sklearn.linear_model import SGDRegressor\n",
    "from sklearn.pipeline import make_pipeline\n",
    "from sklearn.preprocessing import StandardScaler \n",
    "from sklearn.model_selection import train_test_split \n",
    "from sklearn import metrics\n",
    "\n",
    "\n",
    "\n",
    "# lecture des données et mise en forme\n",
    "\n",
    "df = pd.read_csv('Données historiques Bitcoin - Investing.com.csv', encoding='utf-8')\n",
    "df[\"Date\"] = pd.to_datetime(df[\"Date\"],infer_datetime_format=True)\n",
    "\n",
    "# df = df[['Date','Vol.','Variation %','Ouv.', 'Plus Haut', 'Plus Bas']]\n",
    "\n",
    "df.sort_values('Date',ascending=False)\n"
   ]
  },
  {
   "cell_type": "markdown",
   "metadata": {},
   "source": [
    "Source et collecte des données : https://fr.investing.com/crypto/bitcoin/historical-data\n",
    "\n",
    "Prix journalier du BTC du 18/07/2010 au 01/07/2022 ,4367 elements\n",
    "\n",
    "Nous souhaitons prédire le prix du btc, notre target sera donc le dernier prix connu journalier (prix a la fermeture de la séance), il s'agit donc d'une variable quantitative continue\n"
   ]
  },
  {
   "cell_type": "code",
   "execution_count": 112,
   "metadata": {},
   "outputs": [
    {
     "name": "stdout",
     "output_type": "stream",
     "text": [
      "0         0,08K\n",
      "1         0,57K\n",
      "2         0,26K\n",
      "3         0,58K\n",
      "4         2,16K\n",
      "         ...   \n",
      "4362     84,69K\n",
      "4363     83,83K\n",
      "4364     98,97K\n",
      "4365    127,73K\n",
      "4366    150,18K\n",
      "Name: Vol., Length: 4367, dtype: object\n"
     ]
    },
    {
     "name": "stderr",
     "output_type": "stream",
     "text": [
      "C:\\Users\\ninja\\AppData\\Local\\Temp/ipykernel_4440/1638381150.py:4: FutureWarning: The default value of regex will change from True to False in a future version. In addition, single character regular expressions will *not* be treated as literal strings when regex=True.\n",
      "  df['Ouv.'] = df['Ouv.'].str.replace('.','').str.replace(',','.').astype(float)\n",
      "C:\\Users\\ninja\\AppData\\Local\\Temp/ipykernel_4440/1638381150.py:5: FutureWarning: The default value of regex will change from True to False in a future version. In addition, single character regular expressions will *not* be treated as literal strings when regex=True.\n",
      "  df['Dernier'] = df['Dernier'].str.replace('.','').str.replace(',','.').astype(float)\n",
      "C:\\Users\\ninja\\AppData\\Local\\Temp/ipykernel_4440/1638381150.py:6: FutureWarning: The default value of regex will change from True to False in a future version. In addition, single character regular expressions will *not* be treated as literal strings when regex=True.\n",
      "  df['Plus Haut'] = df['Plus Haut'].str.replace('.','').str.replace(',','.').astype(float)\n",
      "C:\\Users\\ninja\\AppData\\Local\\Temp/ipykernel_4440/1638381150.py:7: FutureWarning: The default value of regex will change from True to False in a future version. In addition, single character regular expressions will *not* be treated as literal strings when regex=True.\n",
      "  df['Plus Bas'] = df['Plus Bas'].str.replace('.','').str.replace(',','.').astype(float)\n"
     ]
    }
   ],
   "source": [
    "# nettoyage données \n",
    "\n",
    "df['Date'] = df['Date'].values.astype('datetime64[D]')\n",
    "df['Ouv.'] = df['Ouv.'].str.replace('.','').str.replace(',','.').astype(float)\n",
    "df['Dernier'] = df['Dernier'].str.replace('.','').str.replace(',','.').astype(float)\n",
    "df['Plus Haut'] = df['Plus Haut'].str.replace('.','').str.replace(',','.').astype(float)\n",
    "df['Plus Bas'] = df['Plus Bas'].str.replace('.','').str.replace(',','.').astype(float)\n",
    "# df['Vol.'] = df['Vol.'].str.replace(',','').str.replace('K','000').str.replace('M','000000').astype(float)\n",
    "\n",
    "#  definition des colonnes features et target \n",
    "\n",
    "date = df['Date']\n",
    "open = df['Ouv.']\n",
    "close = df['Dernier']\n",
    "High = df['Plus Haut']\n",
    "low = df['Plus Bas']\n",
    "volume = df['Vol.']\n",
    "variation = df['Variation %']\n",
    "\n",
    "features = df[['Ouv.','Plus Haut','Plus Bas']]\n",
    "target = close\n",
    "\n",
    "\n"
   ]
  },
  {
   "cell_type": "markdown",
   "metadata": {},
   "source": [
    "Evolution du prix du BTC sur le temps"
   ]
  },
  {
   "cell_type": "code",
   "execution_count": 113,
   "metadata": {},
   "outputs": [
    {
     "data": {
      "text/plain": [
       "<AxesSubplot:xlabel='Date', ylabel='Dernier'>"
      ]
     },
     "execution_count": 113,
     "metadata": {},
     "output_type": "execute_result"
    },
    {
     "data": {
      "image/png": "[encoded data removed]",
      "text/plain": [
       "<Figure size 432x288 with 1 Axes>"
      ]
     },
     "metadata": {
      "needs_background": "light"
     },
     "output_type": "display_data"
    }
   ],
   "source": [
    "sns.lineplot(x=date,y=close)\n",
    "\n"
   ]
  },
  {
   "cell_type": "code",
   "execution_count": 134,
   "metadata": {},
   "outputs": [
    {
     "name": "stdout",
     "output_type": "stream",
     "text": [
      "-6.196336725347398e+18\n",
      "[-7.14664202e+10  2.44733562e+10  4.66389772e+10] [-4.91413069e+09]\n"
     ]
    }
   ],
   "source": [
    "x_train, x_test, y_train, y_test = train_test_split(features,target,)\n",
    "\n",
    "reg = SGDRegressor(max_iter=10**6,eta0=0.0001)\n",
    "reg.fit(x_train,y_train)\n",
    "\n",
    "# score du modele\n",
    "print(reg.score(x_train,y_train))\n",
    "print(reg.coef_, reg.intercept_)\n",
    "\n",
    "\n"
   ]
  },
  {
   "cell_type": "code",
   "execution_count": null,
   "metadata": {},
   "outputs": [],
   "source": []
  }
 ],
 "metadata": {
  "kernelspec": {
   "display_name": "Python 3.9.7 64-bit",
   "language": "python",
   "name": "python3"
  },
  "language_info": {
   "codemirror_mode": {
    "name": "ipython",
    "version": 3
   },
   "file_extension": ".py",
   "mimetype": "text/x-python",
   "name": "python",
   "nbconvert_exporter": "python",
   "pygments_lexer": "ipython3",
   "version": "3.9.7"
  },
  "orig_nbformat": 4,
  "vscode": {
   "interpreter": {
    "hash": "eb8f2dcc0497c85ebfe941ffb5fac3d7127ac5cd410bd113b821a0955096d97c"
   }
  }
 },
 "nbformat": 4,
 "nbformat_minor": 2
}
