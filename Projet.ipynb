{
 "cells": [
  {
   "cell_type": "code",
   "execution_count": 290,
   "metadata": {},
   "outputs": [
    {
     "data": {
      "text/html": [
       "<div>\n",
       "<style scoped>\n",
       "    .dataframe tbody tr th:only-of-type {\n",
       "        vertical-align: middle;\n",
       "    }\n",
       "\n",
       "    .dataframe tbody tr th {\n",
       "        vertical-align: top;\n",
       "    }\n",
       "\n",
       "    .dataframe thead th {\n",
       "        text-align: right;\n",
       "    }\n",
       "</style>\n",
       "<table border=\"1\" class=\"dataframe\">\n",
       "  <thead>\n",
       "    <tr style=\"text-align: right;\">\n",
       "      <th></th>\n",
       "      <th>Open</th>\n",
       "      <th>High</th>\n",
       "      <th>Low</th>\n",
       "      <th>Close</th>\n",
       "      <th>Adj Close</th>\n",
       "      <th>Volume</th>\n",
       "    </tr>\n",
       "    <tr>\n",
       "      <th>Date</th>\n",
       "      <th></th>\n",
       "      <th></th>\n",
       "      <th></th>\n",
       "      <th></th>\n",
       "      <th></th>\n",
       "      <th></th>\n",
       "    </tr>\n",
       "  </thead>\n",
       "  <tbody>\n",
       "    <tr>\n",
       "      <th>2014-09-17</th>\n",
       "      <td>465.864014</td>\n",
       "      <td>468.174011</td>\n",
       "      <td>452.421997</td>\n",
       "      <td>457.334015</td>\n",
       "      <td>457.334015</td>\n",
       "      <td>21056800</td>\n",
       "    </tr>\n",
       "    <tr>\n",
       "      <th>2014-09-18</th>\n",
       "      <td>456.859985</td>\n",
       "      <td>456.859985</td>\n",
       "      <td>413.104004</td>\n",
       "      <td>424.440002</td>\n",
       "      <td>424.440002</td>\n",
       "      <td>34483200</td>\n",
       "    </tr>\n",
       "    <tr>\n",
       "      <th>2014-09-19</th>\n",
       "      <td>424.102997</td>\n",
       "      <td>427.834991</td>\n",
       "      <td>384.532013</td>\n",
       "      <td>394.795990</td>\n",
       "      <td>394.795990</td>\n",
       "      <td>37919700</td>\n",
       "    </tr>\n",
       "    <tr>\n",
       "      <th>2014-09-20</th>\n",
       "      <td>394.673004</td>\n",
       "      <td>423.295990</td>\n",
       "      <td>389.882996</td>\n",
       "      <td>408.903992</td>\n",
       "      <td>408.903992</td>\n",
       "      <td>36863600</td>\n",
       "    </tr>\n",
       "    <tr>\n",
       "      <th>2014-09-21</th>\n",
       "      <td>408.084991</td>\n",
       "      <td>412.425995</td>\n",
       "      <td>393.181000</td>\n",
       "      <td>398.821014</td>\n",
       "      <td>398.821014</td>\n",
       "      <td>26580100</td>\n",
       "    </tr>\n",
       "  </tbody>\n",
       "</table>\n",
       "</div>"
      ],
      "text/plain": [
       "                  Open        High         Low       Close   Adj Close  \\\n",
       "Date                                                                     \n",
       "2014-09-17  465.864014  468.174011  452.421997  457.334015  457.334015   \n",
       "2014-09-18  456.859985  456.859985  413.104004  424.440002  424.440002   \n",
       "2014-09-19  424.102997  427.834991  384.532013  394.795990  394.795990   \n",
       "2014-09-20  394.673004  423.295990  389.882996  408.903992  408.903992   \n",
       "2014-09-21  408.084991  412.425995  393.181000  398.821014  398.821014   \n",
       "\n",
       "              Volume  \n",
       "Date                  \n",
       "2014-09-17  21056800  \n",
       "2014-09-18  34483200  \n",
       "2014-09-19  37919700  \n",
       "2014-09-20  36863600  \n",
       "2014-09-21  26580100  "
      ]
     },
     "execution_count": 290,
     "metadata": {},
     "output_type": "execute_result"
    }
   ],
   "source": [
    "# importation des libraries\n",
    "\n",
    "%matplotlib inline\n",
    "import pandas as pd\n",
    "import numpy as np\n",
    "import seaborn as sns\n",
    "import matplotlib.pyplot as plt\n",
    "from statsmodels.tsa.arima.model import ARIMA\n",
    "\n",
    "\n",
    "\n",
    "# lecture des données et mise en forme\n",
    "\n",
    "df = pd.read_csv('BTC-USD.csv', encoding='utf-8',index_col='Date',parse_dates=True)\n",
    "\n",
    "df.head()\n"
   ]
  },
  {
   "cell_type": "markdown",
   "metadata": {},
   "source": [
    "Evolution du prix du BTC sur le temps"
   ]
  },
  {
   "cell_type": "code",
   "execution_count": 291,
   "metadata": {},
   "outputs": [
    {
     "data": {
      "image/png": "[encoded data removed]",
      "text/plain": [
       "<Figure size 648x432 with 1 Axes>"
      ]
     },
     "metadata": {
      "needs_background": "light"
     },
     "output_type": "display_data"
    }
   ],
   "source": [
    "from matplotlib.pyplot import xlabel, ylabel\n",
    "\n",
    "\n",
    "df['Close'].plot(figsize=(9,6))\n",
    "xlabel('Temps')\n",
    "ylabel('Prix')\n",
    "plt.grid()"
   ]
  },
  {
   "cell_type": "markdown",
   "metadata": {},
   "source": [
    "Corrélation entre les valeurs"
   ]
  },
  {
   "cell_type": "code",
   "execution_count": 292,
   "metadata": {},
   "outputs": [
    {
     "data": {
      "text/html": [
       "<div>\n",
       "<style scoped>\n",
       "    .dataframe tbody tr th:only-of-type {\n",
       "        vertical-align: middle;\n",
       "    }\n",
       "\n",
       "    .dataframe tbody tr th {\n",
       "        vertical-align: top;\n",
       "    }\n",
       "\n",
       "    .dataframe thead th {\n",
       "        text-align: right;\n",
       "    }\n",
       "</style>\n",
       "<table border=\"1\" class=\"dataframe\">\n",
       "  <thead>\n",
       "    <tr style=\"text-align: right;\">\n",
       "      <th></th>\n",
       "      <th>Open</th>\n",
       "      <th>High</th>\n",
       "      <th>Low</th>\n",
       "      <th>Close</th>\n",
       "      <th>Adj Close</th>\n",
       "      <th>Volume</th>\n",
       "    </tr>\n",
       "  </thead>\n",
       "  <tbody>\n",
       "    <tr>\n",
       "      <th>Open</th>\n",
       "      <td>1.000000</td>\n",
       "      <td>0.999528</td>\n",
       "      <td>0.999112</td>\n",
       "      <td>0.998811</td>\n",
       "      <td>0.998811</td>\n",
       "      <td>0.724008</td>\n",
       "    </tr>\n",
       "    <tr>\n",
       "      <th>High</th>\n",
       "      <td>0.999528</td>\n",
       "      <td>1.000000</td>\n",
       "      <td>0.999043</td>\n",
       "      <td>0.999476</td>\n",
       "      <td>0.999476</td>\n",
       "      <td>0.727865</td>\n",
       "    </tr>\n",
       "    <tr>\n",
       "      <th>Low</th>\n",
       "      <td>0.999112</td>\n",
       "      <td>0.999043</td>\n",
       "      <td>1.000000</td>\n",
       "      <td>0.999389</td>\n",
       "      <td>0.999389</td>\n",
       "      <td>0.715739</td>\n",
       "    </tr>\n",
       "    <tr>\n",
       "      <th>Close</th>\n",
       "      <td>0.998811</td>\n",
       "      <td>0.999476</td>\n",
       "      <td>0.999389</td>\n",
       "      <td>1.000000</td>\n",
       "      <td>1.000000</td>\n",
       "      <td>0.722695</td>\n",
       "    </tr>\n",
       "    <tr>\n",
       "      <th>Adj Close</th>\n",
       "      <td>0.998811</td>\n",
       "      <td>0.999476</td>\n",
       "      <td>0.999389</td>\n",
       "      <td>1.000000</td>\n",
       "      <td>1.000000</td>\n",
       "      <td>0.722695</td>\n",
       "    </tr>\n",
       "    <tr>\n",
       "      <th>Volume</th>\n",
       "      <td>0.724008</td>\n",
       "      <td>0.727865</td>\n",
       "      <td>0.715739</td>\n",
       "      <td>0.722695</td>\n",
       "      <td>0.722695</td>\n",
       "      <td>1.000000</td>\n",
       "    </tr>\n",
       "  </tbody>\n",
       "</table>\n",
       "</div>"
      ],
      "text/plain": [
       "               Open      High       Low     Close  Adj Close    Volume\n",
       "Open       1.000000  0.999528  0.999112  0.998811   0.998811  0.724008\n",
       "High       0.999528  1.000000  0.999043  0.999476   0.999476  0.727865\n",
       "Low        0.999112  0.999043  1.000000  0.999389   0.999389  0.715739\n",
       "Close      0.998811  0.999476  0.999389  1.000000   1.000000  0.722695\n",
       "Adj Close  0.998811  0.999476  0.999389  1.000000   1.000000  0.722695\n",
       "Volume     0.724008  0.727865  0.715739  0.722695   0.722695  1.000000"
      ]
     },
     "execution_count": 292,
     "metadata": {},
     "output_type": "execute_result"
    },
    {
     "data": {
      "image/png": "[encoded data removed]",
      "text/plain": [
       "<Figure size 432x288 with 2 Axes>"
      ]
     },
     "metadata": {
      "needs_background": "light"
     },
     "output_type": "display_data"
    }
   ],
   "source": [
    "sns.heatmap(df.corr()) \n",
    "df.corr()"
   ]
  },
  {
   "cell_type": "code",
   "execution_count": 293,
   "metadata": {},
   "outputs": [
    {
     "data": {
      "text/html": [
       "<div>\n",
       "<style scoped>\n",
       "    .dataframe tbody tr th:only-of-type {\n",
       "        vertical-align: middle;\n",
       "    }\n",
       "\n",
       "    .dataframe tbody tr th {\n",
       "        vertical-align: top;\n",
       "    }\n",
       "\n",
       "    .dataframe thead th {\n",
       "        text-align: right;\n",
       "    }\n",
       "</style>\n",
       "<table border=\"1\" class=\"dataframe\">\n",
       "  <thead>\n",
       "    <tr style=\"text-align: right;\">\n",
       "      <th></th>\n",
       "      <th>Close</th>\n",
       "      <th>Volume</th>\n",
       "    </tr>\n",
       "    <tr>\n",
       "      <th>Date</th>\n",
       "      <th></th>\n",
       "      <th></th>\n",
       "    </tr>\n",
       "  </thead>\n",
       "  <tbody>\n",
       "    <tr>\n",
       "      <th>2014-09-17</th>\n",
       "      <td>457.334015</td>\n",
       "      <td>21056800</td>\n",
       "    </tr>\n",
       "    <tr>\n",
       "      <th>2014-09-18</th>\n",
       "      <td>424.440002</td>\n",
       "      <td>34483200</td>\n",
       "    </tr>\n",
       "    <tr>\n",
       "      <th>2014-09-19</th>\n",
       "      <td>394.795990</td>\n",
       "      <td>37919700</td>\n",
       "    </tr>\n",
       "    <tr>\n",
       "      <th>2014-09-20</th>\n",
       "      <td>408.903992</td>\n",
       "      <td>36863600</td>\n",
       "    </tr>\n",
       "    <tr>\n",
       "      <th>2014-09-21</th>\n",
       "      <td>398.821014</td>\n",
       "      <td>26580100</td>\n",
       "    </tr>\n",
       "  </tbody>\n",
       "</table>\n",
       "</div>"
      ],
      "text/plain": [
       "                 Close    Volume\n",
       "Date                            \n",
       "2014-09-17  457.334015  21056800\n",
       "2014-09-18  424.440002  34483200\n",
       "2014-09-19  394.795990  37919700\n",
       "2014-09-20  408.903992  36863600\n",
       "2014-09-21  398.821014  26580100"
      ]
     },
     "execution_count": 293,
     "metadata": {},
     "output_type": "execute_result"
    }
   ],
   "source": [
    "#  definition des colonnes features et target \n",
    "\n",
    "close = df['Close']\n",
    "volume = df['Volume']\n",
    "\n",
    "features = volume\n",
    "target = close\n",
    " \n",
    "df = df[['Close','Volume']]\n",
    "df.head()"
   ]
  },
  {
   "cell_type": "code",
   "execution_count": 294,
   "metadata": {},
   "outputs": [
    {
     "name": "stdout",
     "output_type": "stream",
     "text": [
      "52.228765305150205\n",
      "coeff 1 =  [6.01590305e-07]\n"
     ]
    }
   ],
   "source": [
    "# regression linéaire simple \n",
    "from sklearn import linear_model\n",
    "\n",
    "x=features.values.reshape(-1,1)\n",
    "y=target\n",
    "modele = linear_model.LinearRegression()\n",
    "modele.fit(x,y)\n",
    "\n",
    "print(modele.score(x,y))\n",
    "print(\"coeff 1 = \", modele.coef_)"
   ]
  },
  {
   "cell_type": "markdown",
   "metadata": {},
   "source": [
    "Source et collecte des données : https://finance.yahoo.com/quote/BTC-USD/history/\n",
    "\n",
    "Prix journalier du BTC du 17/09/2014 au 01/07/2022 \n",
    "\n",
    "Nous souhaitons prédire le prix du btc, notre target sera donc le dernier prix connu journalier (prix a la fermeture de la séance), il s'agit donc d'une variable quantitative continue\n"
   ]
  },
  {
   "cell_type": "code",
   "execution_count": 295,
   "metadata": {},
   "outputs": [
    {
     "data": {
      "text/plain": [
       "<matplotlib.legend.Legend at 0x7f4e32721940>"
      ]
     },
     "execution_count": 295,
     "metadata": {},
     "output_type": "execute_result"
    },
    {
     "data": {
      "image/png": "[encoded data removed]",
      "text/plain": [
       "<Figure size 720x432 with 1 Axes>"
      ]
     },
     "metadata": {
      "needs_background": "light"
     },
     "output_type": "display_data"
    }
   ],
   "source": [
    "# Train test Split \n",
    "\n",
    "to_row = int(len(df)*0.8)\n",
    "\n",
    "target_train_data = close[0:to_row]\n",
    "target_test_data = close[to_row:] \n",
    "\n",
    "plt.figure(figsize=(10,6))\n",
    "plt.grid()\n",
    "plt.xlabel('date')\n",
    "plt.ylabel('Close')\n",
    "plt.plot(target_train_data,'blue',label='train')\n",
    "plt.plot(target_test_data,\"red\",label='test')\n",
    "\n",
    "plt.legend()\n",
    "\n",
    "\n",
    "\n",
    "\n"
   ]
  },
  {
   "cell_type": "code",
   "execution_count": 316,
   "metadata": {},
   "outputs": [
    {
     "data": {
      "text/plain": [
       "(-6.562915321321995,\n",
       " 8.294822476383461e-09,\n",
       " 19,\n",
       " 1206,\n",
       " {'1%': -3.435783891669927,\n",
       "  '5%': -2.863939534252909,\n",
       "  '10%': -2.56804755322338},\n",
       " 17810.507699433205)"
      ]
     },
     "execution_count": 316,
     "metadata": {},
     "output_type": "execute_result"
    }
   ],
   "source": [
    "#test de stationnarité \n",
    "\n",
    "from statsmodels.tsa.stattools import adfuller\n",
    "\n",
    "adfuller(target_train_data[\"2017-08\":\"2020-12-31\"].diff(1)[1:])\n",
    "\n",
    "# on est au dessus de 5% = hypothese non validé donc "
   ]
  },
  {
   "cell_type": "code",
   "execution_count": 314,
   "metadata": {},
   "outputs": [
    {
     "name": "stderr",
     "output_type": "stream",
     "text": [
      "/home/saber/.local/lib/python3.8/site-packages/statsmodels/tsa/base/tsa_model.py:471: ValueWarning: No frequency information was provided, so inferred frequency D will be used.\n",
      "  self._init_dates(dates, freq)\n",
      "/home/saber/.local/lib/python3.8/site-packages/statsmodels/tsa/base/tsa_model.py:471: ValueWarning: No frequency information was provided, so inferred frequency D will be used.\n",
      "  self._init_dates(dates, freq)\n",
      "/home/saber/.local/lib/python3.8/site-packages/statsmodels/tsa/base/tsa_model.py:471: ValueWarning: No frequency information was provided, so inferred frequency D will be used.\n",
      "  self._init_dates(dates, freq)\n"
     ]
    }
   ],
   "source": [
    "from statsmodels.tsa.stattools import acf,pacf\n",
    "\n",
    "n_test_obser = len(target_test_data)\n",
    "\n",
    "# Entrainement du modele \n",
    "\n",
    "model = ARIMA(target_train_data[\"2017-08\":\"2020-12-31\"], order = (1,1,1))\n",
    "res = model.fit()\n",
    "\n",
    "\n",
    "\n",
    "prediction = res.predict(start=\"2021-01\",end=\"2021-01-30\")\n",
    "\n"
   ]
  },
  {
   "cell_type": "code",
   "execution_count": 306,
   "metadata": {},
   "outputs": [
    {
     "data": {
      "text/plain": [
       "<matplotlib.lines.Line2D at 0x7f4e3249f550>"
      ]
     },
     "execution_count": 306,
     "metadata": {},
     "output_type": "execute_result"
    },
    {
     "data": {
      "image/png": "[encoded data removed]",
      "text/plain": [
       "<Figure size 432x288 with 1 Axes>"
      ]
     },
     "metadata": {
      "needs_background": "light"
     },
     "output_type": "display_data"
    }
   ],
   "source": [
    "from pandas import DataFrame\n",
    "from statsmodels.tsa.stattools import acf,pacf\n",
    "import matplotlib.pyplot as plt\n",
    "\n",
    "\n",
    "# df = DataFrame(np.log(target_train_data[\"2019-08-01\":\"2019-12-31\"])).diff(1)[1:]\n",
    "# df.head()\n",
    "\n",
    "\n",
    "df = DataFrame(target_train_data[\"2017-08\":\"2020-12-31\"])\n",
    "\n",
    "\n",
    "plt.plot(pacf(df['Close'].diff(1)[1:]))\n",
    "plt.axhline(0.05)\n",
    "plt.axhline(-0.05)\n",
    "# plt.axvline(1)\n",
    "\n",
    "# pacf = 1\n",
    "# acf = 1\n",
    "\n",
    "\n"
   ]
  },
  {
   "cell_type": "code",
   "execution_count": 312,
   "metadata": {},
   "outputs": [
    {
     "data": {
      "text/plain": [
       "[<matplotlib.lines.Line2D at 0x7f4e3236df70>]"
      ]
     },
     "execution_count": 312,
     "metadata": {},
     "output_type": "execute_result"
    },
    {
     "data": {
      "image/png": "[encoded data removed]",
      "text/plain": [
       "<Figure size 720x432 with 1 Axes>"
      ]
     },
     "metadata": {
      "needs_background": "light"
     },
     "output_type": "display_data"
    }
   ],
   "source": [
    "plt.figure(figsize=(10,6))\n",
    "plt.grid()\n",
    "plt.xlabel('date')\n",
    "plt.ylabel('Close')\n",
    "plt.plot(target_train_data,'blue',label='train')\n",
    "plt.plot(target_test_data,\"green\",label='test')\n",
    "plt.plot(prediction,\"red\",label='Prediction')\n",
    "\n",
    "\n"
   ]
  },
  {
   "cell_type": "code",
   "execution_count": 313,
   "metadata": {},
   "outputs": [
    {
     "data": {
      "text/plain": [
       "2021-01-01    18547.375270\n",
       "2021-01-02    18542.404402\n",
       "2021-01-03    18591.385616\n",
       "2021-01-04    18557.105380\n",
       "2021-01-05    18554.871579\n",
       "2021-01-06    18543.450609\n",
       "2021-01-07    18552.872082\n",
       "2021-01-08    18585.005350\n",
       "2021-01-09    18554.881715\n",
       "2021-01-10    18555.798348\n",
       "2021-01-11    18542.523739\n",
       "2021-01-12    18560.671232\n",
       "2021-01-13    18578.355999\n",
       "2021-01-14    18554.655489\n",
       "2021-01-15    18555.116801\n",
       "2021-01-16    18543.918125\n",
       "2021-01-17    18565.656090\n",
       "2021-01-18    18572.500390\n",
       "2021-01-19    18555.232288\n",
       "2021-01-20    18553.798885\n",
       "2021-01-21    18546.749322\n",
       "2021-01-22    18568.194848\n",
       "2021-01-23    18567.884473\n",
       "2021-01-24    18555.881020\n",
       "2021-01-25    18552.556310\n",
       "2021-01-26    18550.181698\n",
       "2021-01-27    18568.890676\n",
       "2021-01-28    18564.537525\n",
       "2021-01-29    18556.260755\n",
       "2021-01-30    18551.797873\n",
       "Freq: D, Name: predicted_mean, dtype: float64"
      ]
     },
     "execution_count": 313,
     "metadata": {},
     "output_type": "execute_result"
    }
   ],
   "source": [
    "prediction"
   ]
  },
  {
   "cell_type": "code",
   "execution_count": null,
   "metadata": {},
   "outputs": [],
   "source": []
  }
 ],
 "metadata": {
  "kernelspec": {
   "display_name": "Python 3.8.10 64-bit",
   "language": "python",
   "name": "python3"
  },
  "language_info": {
   "codemirror_mode": {
    "name": "ipython",
    "version": 3
   },
   "file_extension": ".py",
   "mimetype": "text/x-python",
   "name": "python",
   "nbconvert_exporter": "python",
   "pygments_lexer": "ipython3",
   "version": "3.8.10"
  },
  "orig_nbformat": 4,
  "vscode": {
   "interpreter": {
    "hash": "916dbcbb3f70747c44a77c7bcd40155683ae19c65e1c03b4aa3499c5328201f1"
   }
  }
 },
 "nbformat": 4,
 "nbformat_minor": 2
}
