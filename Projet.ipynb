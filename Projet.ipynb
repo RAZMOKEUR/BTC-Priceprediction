{
 "cells": [
  {
   "cell_type": "code",
   "execution_count": 232,
   "metadata": {},
   "outputs": [
    {
     "data": {
      "text/html": [
       "<div>\n",
       "<style scoped>\n",
       "    .dataframe tbody tr th:only-of-type {\n",
       "        vertical-align: middle;\n",
       "    }\n",
       "\n",
       "    .dataframe tbody tr th {\n",
       "        vertical-align: top;\n",
       "    }\n",
       "\n",
       "    .dataframe thead th {\n",
       "        text-align: right;\n",
       "    }\n",
       "</style>\n",
       "<table border=\"1\" class=\"dataframe\">\n",
       "  <thead>\n",
       "    <tr style=\"text-align: right;\">\n",
       "      <th></th>\n",
       "      <th>Date</th>\n",
       "      <th>Open</th>\n",
       "      <th>High</th>\n",
       "      <th>Low</th>\n",
       "      <th>Close</th>\n",
       "      <th>Adj Close</th>\n",
       "      <th>Volume</th>\n",
       "    </tr>\n",
       "  </thead>\n",
       "  <tbody>\n",
       "    <tr>\n",
       "      <th>0</th>\n",
       "      <td>2014-09-17</td>\n",
       "      <td>465.864014</td>\n",
       "      <td>468.174011</td>\n",
       "      <td>452.421997</td>\n",
       "      <td>457.334015</td>\n",
       "      <td>457.334015</td>\n",
       "      <td>21056800</td>\n",
       "    </tr>\n",
       "    <tr>\n",
       "      <th>1</th>\n",
       "      <td>2014-09-18</td>\n",
       "      <td>456.859985</td>\n",
       "      <td>456.859985</td>\n",
       "      <td>413.104004</td>\n",
       "      <td>424.440002</td>\n",
       "      <td>424.440002</td>\n",
       "      <td>34483200</td>\n",
       "    </tr>\n",
       "    <tr>\n",
       "      <th>2</th>\n",
       "      <td>2014-09-19</td>\n",
       "      <td>424.102997</td>\n",
       "      <td>427.834991</td>\n",
       "      <td>384.532013</td>\n",
       "      <td>394.795990</td>\n",
       "      <td>394.795990</td>\n",
       "      <td>37919700</td>\n",
       "    </tr>\n",
       "    <tr>\n",
       "      <th>3</th>\n",
       "      <td>2014-09-20</td>\n",
       "      <td>394.673004</td>\n",
       "      <td>423.295990</td>\n",
       "      <td>389.882996</td>\n",
       "      <td>408.903992</td>\n",
       "      <td>408.903992</td>\n",
       "      <td>36863600</td>\n",
       "    </tr>\n",
       "    <tr>\n",
       "      <th>4</th>\n",
       "      <td>2014-09-21</td>\n",
       "      <td>408.084991</td>\n",
       "      <td>412.425995</td>\n",
       "      <td>393.181000</td>\n",
       "      <td>398.821014</td>\n",
       "      <td>398.821014</td>\n",
       "      <td>26580100</td>\n",
       "    </tr>\n",
       "    <tr>\n",
       "      <th>...</th>\n",
       "      <td>...</td>\n",
       "      <td>...</td>\n",
       "      <td>...</td>\n",
       "      <td>...</td>\n",
       "      <td>...</td>\n",
       "      <td>...</td>\n",
       "      <td>...</td>\n",
       "    </tr>\n",
       "    <tr>\n",
       "      <th>2840</th>\n",
       "      <td>2022-06-27</td>\n",
       "      <td>21028.238281</td>\n",
       "      <td>21478.089844</td>\n",
       "      <td>20620.199219</td>\n",
       "      <td>20735.478516</td>\n",
       "      <td>20735.478516</td>\n",
       "      <td>20965695707</td>\n",
       "    </tr>\n",
       "    <tr>\n",
       "      <th>2841</th>\n",
       "      <td>2022-06-28</td>\n",
       "      <td>20731.544922</td>\n",
       "      <td>21164.423828</td>\n",
       "      <td>20228.812500</td>\n",
       "      <td>20280.634766</td>\n",
       "      <td>20280.634766</td>\n",
       "      <td>21381535161</td>\n",
       "    </tr>\n",
       "    <tr>\n",
       "      <th>2842</th>\n",
       "      <td>2022-06-29</td>\n",
       "      <td>20281.169922</td>\n",
       "      <td>20364.156250</td>\n",
       "      <td>19937.791016</td>\n",
       "      <td>20104.023438</td>\n",
       "      <td>20104.023438</td>\n",
       "      <td>23552740328</td>\n",
       "    </tr>\n",
       "    <tr>\n",
       "      <th>2843</th>\n",
       "      <td>2022-06-30</td>\n",
       "      <td>20108.312500</td>\n",
       "      <td>20141.160156</td>\n",
       "      <td>18729.656250</td>\n",
       "      <td>19784.726563</td>\n",
       "      <td>19784.726563</td>\n",
       "      <td>26267239923</td>\n",
       "    </tr>\n",
       "    <tr>\n",
       "      <th>2844</th>\n",
       "      <td>2022-07-01</td>\n",
       "      <td>19820.470703</td>\n",
       "      <td>20632.671875</td>\n",
       "      <td>19073.708984</td>\n",
       "      <td>19269.367188</td>\n",
       "      <td>19269.367188</td>\n",
       "      <td>30767551159</td>\n",
       "    </tr>\n",
       "  </tbody>\n",
       "</table>\n",
       "<p>2845 rows × 7 columns</p>\n",
       "</div>"
      ],
      "text/plain": [
       "           Date          Open          High           Low         Close  \\\n",
       "0    2014-09-17    465.864014    468.174011    452.421997    457.334015   \n",
       "1    2014-09-18    456.859985    456.859985    413.104004    424.440002   \n",
       "2    2014-09-19    424.102997    427.834991    384.532013    394.795990   \n",
       "3    2014-09-20    394.673004    423.295990    389.882996    408.903992   \n",
       "4    2014-09-21    408.084991    412.425995    393.181000    398.821014   \n",
       "...         ...           ...           ...           ...           ...   \n",
       "2840 2022-06-27  21028.238281  21478.089844  20620.199219  20735.478516   \n",
       "2841 2022-06-28  20731.544922  21164.423828  20228.812500  20280.634766   \n",
       "2842 2022-06-29  20281.169922  20364.156250  19937.791016  20104.023438   \n",
       "2843 2022-06-30  20108.312500  20141.160156  18729.656250  19784.726563   \n",
       "2844 2022-07-01  19820.470703  20632.671875  19073.708984  19269.367188   \n",
       "\n",
       "         Adj Close       Volume  \n",
       "0       457.334015     21056800  \n",
       "1       424.440002     34483200  \n",
       "2       394.795990     37919700  \n",
       "3       408.903992     36863600  \n",
       "4       398.821014     26580100  \n",
       "...            ...          ...  \n",
       "2840  20735.478516  20965695707  \n",
       "2841  20280.634766  21381535161  \n",
       "2842  20104.023438  23552740328  \n",
       "2843  19784.726563  26267239923  \n",
       "2844  19269.367188  30767551159  \n",
       "\n",
       "[2845 rows x 7 columns]"
      ]
     },
     "execution_count": 232,
     "metadata": {},
     "output_type": "execute_result"
    }
   ],
   "source": [
    "# importation des libraries\n",
    "\n",
    "%matplotlib inline\n",
    "import pandas as pd\n",
    "import numpy as np\n",
    "import seaborn as sns\n",
    "import matplotlib.pyplot as plt\n",
    "from sklearn import metrics\n",
    "from statsmodels.tsa.arima.model import ARIMA\n",
    "\n",
    "\n",
    "\n",
    "# lecture des données et mise en forme\n",
    "\n",
    "df = pd.read_csv('BTC-USD.csv', encoding='utf-8')\n",
    "df[\"Date\"] = pd.to_datetime(df[\"Date\"],infer_datetime_format=True)\n",
    "\n",
    "\n",
    "df.sort_values('Date',ascending=True)\n"
   ]
  },
  {
   "cell_type": "markdown",
   "metadata": {},
   "source": [
    "Evolution du prix du BTC sur le temps"
   ]
  },
  {
   "cell_type": "code",
   "execution_count": 233,
   "metadata": {},
   "outputs": [
    {
     "data": {
      "text/plain": [
       "<AxesSubplot:xlabel='Date', ylabel='Close'>"
      ]
     },
     "execution_count": 233,
     "metadata": {},
     "output_type": "execute_result"
    },
    {
     "data": {
      "image/png": "[encoded data removed]",
      "text/plain": [
       "<Figure size 432x288 with 1 Axes>"
      ]
     },
     "metadata": {
      "needs_background": "light"
     },
     "output_type": "display_data"
    }
   ],
   "source": [
    "sns.lineplot(x=date,y=close)"
   ]
  },
  {
   "cell_type": "markdown",
   "metadata": {},
   "source": [
    "Corrélation entre les valeurs"
   ]
  },
  {
   "cell_type": "code",
   "execution_count": 234,
   "metadata": {},
   "outputs": [
    {
     "data": {
      "text/html": [
       "<div>\n",
       "<style scoped>\n",
       "    .dataframe tbody tr th:only-of-type {\n",
       "        vertical-align: middle;\n",
       "    }\n",
       "\n",
       "    .dataframe tbody tr th {\n",
       "        vertical-align: top;\n",
       "    }\n",
       "\n",
       "    .dataframe thead th {\n",
       "        text-align: right;\n",
       "    }\n",
       "</style>\n",
       "<table border=\"1\" class=\"dataframe\">\n",
       "  <thead>\n",
       "    <tr style=\"text-align: right;\">\n",
       "      <th></th>\n",
       "      <th>Open</th>\n",
       "      <th>High</th>\n",
       "      <th>Low</th>\n",
       "      <th>Close</th>\n",
       "      <th>Adj Close</th>\n",
       "      <th>Volume</th>\n",
       "    </tr>\n",
       "  </thead>\n",
       "  <tbody>\n",
       "    <tr>\n",
       "      <th>Open</th>\n",
       "      <td>1.000000</td>\n",
       "      <td>0.999528</td>\n",
       "      <td>0.999112</td>\n",
       "      <td>0.998811</td>\n",
       "      <td>0.998811</td>\n",
       "      <td>0.724008</td>\n",
       "    </tr>\n",
       "    <tr>\n",
       "      <th>High</th>\n",
       "      <td>0.999528</td>\n",
       "      <td>1.000000</td>\n",
       "      <td>0.999043</td>\n",
       "      <td>0.999476</td>\n",
       "      <td>0.999476</td>\n",
       "      <td>0.727865</td>\n",
       "    </tr>\n",
       "    <tr>\n",
       "      <th>Low</th>\n",
       "      <td>0.999112</td>\n",
       "      <td>0.999043</td>\n",
       "      <td>1.000000</td>\n",
       "      <td>0.999389</td>\n",
       "      <td>0.999389</td>\n",
       "      <td>0.715739</td>\n",
       "    </tr>\n",
       "    <tr>\n",
       "      <th>Close</th>\n",
       "      <td>0.998811</td>\n",
       "      <td>0.999476</td>\n",
       "      <td>0.999389</td>\n",
       "      <td>1.000000</td>\n",
       "      <td>1.000000</td>\n",
       "      <td>0.722695</td>\n",
       "    </tr>\n",
       "    <tr>\n",
       "      <th>Adj Close</th>\n",
       "      <td>0.998811</td>\n",
       "      <td>0.999476</td>\n",
       "      <td>0.999389</td>\n",
       "      <td>1.000000</td>\n",
       "      <td>1.000000</td>\n",
       "      <td>0.722695</td>\n",
       "    </tr>\n",
       "    <tr>\n",
       "      <th>Volume</th>\n",
       "      <td>0.724008</td>\n",
       "      <td>0.727865</td>\n",
       "      <td>0.715739</td>\n",
       "      <td>0.722695</td>\n",
       "      <td>0.722695</td>\n",
       "      <td>1.000000</td>\n",
       "    </tr>\n",
       "  </tbody>\n",
       "</table>\n",
       "</div>"
      ],
      "text/plain": [
       "               Open      High       Low     Close  Adj Close    Volume\n",
       "Open       1.000000  0.999528  0.999112  0.998811   0.998811  0.724008\n",
       "High       0.999528  1.000000  0.999043  0.999476   0.999476  0.727865\n",
       "Low        0.999112  0.999043  1.000000  0.999389   0.999389  0.715739\n",
       "Close      0.998811  0.999476  0.999389  1.000000   1.000000  0.722695\n",
       "Adj Close  0.998811  0.999476  0.999389  1.000000   1.000000  0.722695\n",
       "Volume     0.724008  0.727865  0.715739  0.722695   0.722695  1.000000"
      ]
     },
     "execution_count": 234,
     "metadata": {},
     "output_type": "execute_result"
    },
    {
     "data": {
      "image/png": "[encoded data removed]",
      "text/plain": [
       "<Figure size 432x288 with 2 Axes>"
      ]
     },
     "metadata": {
      "needs_background": "light"
     },
     "output_type": "display_data"
    }
   ],
   "source": [
    "sns.heatmap(df.corr()) \n",
    "df.corr()"
   ]
  },
  {
   "cell_type": "code",
   "execution_count": 235,
   "metadata": {},
   "outputs": [
    {
     "data": {
      "text/html": [
       "<div>\n",
       "<style scoped>\n",
       "    .dataframe tbody tr th:only-of-type {\n",
       "        vertical-align: middle;\n",
       "    }\n",
       "\n",
       "    .dataframe tbody tr th {\n",
       "        vertical-align: top;\n",
       "    }\n",
       "\n",
       "    .dataframe thead th {\n",
       "        text-align: right;\n",
       "    }\n",
       "</style>\n",
       "<table border=\"1\" class=\"dataframe\">\n",
       "  <thead>\n",
       "    <tr style=\"text-align: right;\">\n",
       "      <th></th>\n",
       "      <th>Date</th>\n",
       "      <th>Close</th>\n",
       "      <th>Volume</th>\n",
       "    </tr>\n",
       "  </thead>\n",
       "  <tbody>\n",
       "    <tr>\n",
       "      <th>0</th>\n",
       "      <td>2014-09-17</td>\n",
       "      <td>457.334015</td>\n",
       "      <td>21056800</td>\n",
       "    </tr>\n",
       "    <tr>\n",
       "      <th>1</th>\n",
       "      <td>2014-09-18</td>\n",
       "      <td>424.440002</td>\n",
       "      <td>34483200</td>\n",
       "    </tr>\n",
       "    <tr>\n",
       "      <th>2</th>\n",
       "      <td>2014-09-19</td>\n",
       "      <td>394.795990</td>\n",
       "      <td>37919700</td>\n",
       "    </tr>\n",
       "    <tr>\n",
       "      <th>3</th>\n",
       "      <td>2014-09-20</td>\n",
       "      <td>408.903992</td>\n",
       "      <td>36863600</td>\n",
       "    </tr>\n",
       "    <tr>\n",
       "      <th>4</th>\n",
       "      <td>2014-09-21</td>\n",
       "      <td>398.821014</td>\n",
       "      <td>26580100</td>\n",
       "    </tr>\n",
       "  </tbody>\n",
       "</table>\n",
       "</div>"
      ],
      "text/plain": [
       "        Date       Close    Volume\n",
       "0 2014-09-17  457.334015  21056800\n",
       "1 2014-09-18  424.440002  34483200\n",
       "2 2014-09-19  394.795990  37919700\n",
       "3 2014-09-20  408.903992  36863600\n",
       "4 2014-09-21  398.821014  26580100"
      ]
     },
     "execution_count": 235,
     "metadata": {},
     "output_type": "execute_result"
    }
   ],
   "source": [
    "#  definition des colonnes features et target \n",
    "\n",
    "date = df[\"Date\"]\n",
    "close = df['Close']\n",
    "volume = df['Volume']\n",
    "\n",
    "features = volume\n",
    "target = close\n",
    " \n",
    "df = df[['Date','Close','Volume']]\n",
    "df.head()"
   ]
  },
  {
   "cell_type": "markdown",
   "metadata": {},
   "source": [
    "Source et collecte des données : https://finance.yahoo.com/quote/BTC-USD/history/\n",
    "\n",
    "Prix journalier du BTC du 17/09/2014 au 01/07/2022 ,4367 elements\n",
    "\n",
    "Nous souhaitons prédire le prix du btc, notre target sera donc le dernier prix connu journalier (prix a la fermeture de la séance), il s'agit donc d'une variable quantitative continue\n"
   ]
  },
  {
   "cell_type": "code",
   "execution_count": 236,
   "metadata": {},
   "outputs": [
    {
     "data": {
      "text/plain": [
       "<matplotlib.legend.Legend at 0x1d069357ac0>"
      ]
     },
     "execution_count": 236,
     "metadata": {},
     "output_type": "execute_result"
    },
    {
     "data": {
      "image/png": "[encoded data removed]",
      "text/plain": [
       "<Figure size 720x432 with 1 Axes>"
      ]
     },
     "metadata": {
      "needs_background": "light"
     },
     "output_type": "display_data"
    }
   ],
   "source": [
    "# Train test Split \n",
    "\n",
    "to_row = int(len(df)*0.8)\n",
    "\n",
    "target_train_data = list(close[0:to_row] )\n",
    "target_test_data = list(close[to_row:] )\n",
    "\n",
    "plt.figure(figsize=(10,6))\n",
    "plt.grid()\n",
    "plt.xlabel('date')\n",
    "plt.ylabel('Close')\n",
    "plt.plot(date[0:to_row],target_train_data,'blue',label='train')\n",
    "plt.plot(date[to_row:],target_test_data,\"red\",label='test')\n",
    "plt.legend()\n",
    "\n",
    "\n",
    "\n"
   ]
  },
  {
   "cell_type": "code",
   "execution_count": 239,
   "metadata": {},
   "outputs": [
    {
     "name": "stdout",
     "output_type": "stream",
     "text": [
      "                               SARIMAX Results                                \n",
      "==============================================================================\n",
      "Dep. Variable:                      y   No. Observations:                 2276\n",
      "Model:                 ARIMA(4, 1, 0)   Log Likelihood              -16150.151\n",
      "Date:                Wed, 03 Aug 2022   AIC                          32310.301\n",
      "Time:                        13:03:02   BIC                          32338.950\n",
      "Sample:                             0   HQIC                         32320.752\n",
      "                               - 2276                                         \n",
      "Covariance Type:                  opg                                         \n",
      "==============================================================================\n",
      "                 coef    std err          z      P>|z|      [0.025      0.975]\n",
      "------------------------------------------------------------------------------\n",
      "ar.L1          0.0142      0.007      1.905      0.057      -0.000       0.029\n",
      "ar.L2         -0.0206      0.009     -2.379      0.017      -0.038      -0.004\n",
      "ar.L3         -0.0046      0.009     -0.486      0.627      -0.023       0.014\n",
      "ar.L4         -0.0277      0.008     -3.572      0.000      -0.043      -0.012\n",
      "sigma2      8.597e+04    745.029    115.397      0.000    8.45e+04    8.74e+04\n",
      "===================================================================================\n",
      "Ljung-Box (L1) (Q):                   0.01   Jarque-Bera (JB):             66641.51\n",
      "Prob(Q):                              0.94   Prob(JB):                         0.00\n",
      "Heteroskedasticity (H):             728.72   Skew:                             0.22\n",
      "Prob(H) (two-sided):                  0.00   Kurtosis:                        29.51\n",
      "===================================================================================\n",
      "\n",
      "Warnings:\n",
      "[1] Covariance matrix calculated using the outer product of gradients (complex-step).\n"
     ]
    }
   ],
   "source": [
    "predictions = []\n",
    "n_test_obser = len(target_test_data)\n",
    "\n",
    "\n",
    "model = ARIMA(target_train_data, order = (4,1,0)).fit()\n",
    "output = model.forecast()\n",
    "\n",
    "print(model.summary())\n",
    "    \n",
    "    \n",
    "\n"
   ]
  }
 ],
 "metadata": {
  "kernelspec": {
   "display_name": "Python 3.9.7 64-bit",
   "language": "python",
   "name": "python3"
  },
  "language_info": {
   "codemirror_mode": {
    "name": "ipython",
    "version": 3
   },
   "file_extension": ".py",
   "mimetype": "text/x-python",
   "name": "python",
   "nbconvert_exporter": "python",
   "pygments_lexer": "ipython3",
   "version": "3.9.7"
  },
  "orig_nbformat": 4,
  "vscode": {
   "interpreter": {
    "hash": "eb8f2dcc0497c85ebfe941ffb5fac3d7127ac5cd410bd113b821a0955096d97c"
   }
  }
 },
 "nbformat": 4,
 "nbformat_minor": 2
}
